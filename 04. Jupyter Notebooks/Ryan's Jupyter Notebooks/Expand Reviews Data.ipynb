{
 "cells": [
  {
   "cell_type": "code",
   "execution_count": 3,
   "metadata": {},
   "outputs": [],
   "source": [
    "import pandas as pd"
   ]
  },
  {
   "cell_type": "code",
   "execution_count": 4,
   "metadata": {},
   "outputs": [],
   "source": [
    "df = pd.read_csv(\"../../02. Madison Subset/Madison_Reviews.csv\")"
   ]
  },
  {
   "cell_type": "code",
   "execution_count": 5,
   "metadata": {},
   "outputs": [
    {
     "data": {
      "text/html": [
       "<div>\n",
       "<style scoped>\n",
       "    .dataframe tbody tr th:only-of-type {\n",
       "        vertical-align: middle;\n",
       "    }\n",
       "\n",
       "    .dataframe tbody tr th {\n",
       "        vertical-align: top;\n",
       "    }\n",
       "\n",
       "    .dataframe thead th {\n",
       "        text-align: right;\n",
       "    }\n",
       "</style>\n",
       "<table border=\"1\" class=\"dataframe\">\n",
       "  <thead>\n",
       "    <tr style=\"text-align: right;\">\n",
       "      <th></th>\n",
       "      <th>Unnamed: 0</th>\n",
       "      <th>business_id</th>\n",
       "      <th>funny</th>\n",
       "      <th>useful</th>\n",
       "      <th>review_id</th>\n",
       "      <th>text</th>\n",
       "      <th>stars</th>\n",
       "      <th>date</th>\n",
       "      <th>user_id</th>\n",
       "      <th>cool</th>\n",
       "    </tr>\n",
       "  </thead>\n",
       "  <tbody>\n",
       "    <tr>\n",
       "      <th>0</th>\n",
       "      <td>0</td>\n",
       "      <td>ou3C2Cnot1gitNoQIu5Uag</td>\n",
       "      <td>0</td>\n",
       "      <td>1</td>\n",
       "      <td>SlRqylnJdgId16sDnqpglw</td>\n",
       "      <td>I came here Christmas Day 2017 to grab a few i...</td>\n",
       "      <td>1.0</td>\n",
       "      <td>2018-05-29 09:09:16</td>\n",
       "      <td>InnEjkdcAxD-CCtQTP8EyQ</td>\n",
       "      <td>0</td>\n",
       "    </tr>\n",
       "    <tr>\n",
       "      <th>1</th>\n",
       "      <td>1</td>\n",
       "      <td>ou3C2Cnot1gitNoQIu5Uag</td>\n",
       "      <td>0</td>\n",
       "      <td>0</td>\n",
       "      <td>PP8dOxMFX38vgIZnT19C-w</td>\n",
       "      <td>This is Walgreen's - sometimes it has good sal...</td>\n",
       "      <td>3.0</td>\n",
       "      <td>2017-05-13 21:47:26</td>\n",
       "      <td>vAhWqV8pSv3crEdTiaqFVw</td>\n",
       "      <td>0</td>\n",
       "    </tr>\n",
       "    <tr>\n",
       "      <th>2</th>\n",
       "      <td>2</td>\n",
       "      <td>ou3C2Cnot1gitNoQIu5Uag</td>\n",
       "      <td>0</td>\n",
       "      <td>1</td>\n",
       "      <td>yo6lp-WrkkagT40eTe7tzw</td>\n",
       "      <td>I simply came to get an OTC item and waited mo...</td>\n",
       "      <td>1.0</td>\n",
       "      <td>2017-10-04 00:10:21</td>\n",
       "      <td>npO5XqgJN3FdVsUx-cAFJw</td>\n",
       "      <td>0</td>\n",
       "    </tr>\n",
       "    <tr>\n",
       "      <th>3</th>\n",
       "      <td>3</td>\n",
       "      <td>ou3C2Cnot1gitNoQIu5Uag</td>\n",
       "      <td>0</td>\n",
       "      <td>0</td>\n",
       "      <td>wkI56m5OeJaicdJK6y_g1Q</td>\n",
       "      <td>Hey it's a Walgreen's. \\n\\nAs I had to tell th...</td>\n",
       "      <td>3.0</td>\n",
       "      <td>2012-02-12 01:29:10</td>\n",
       "      <td>r-zUIQPaHzvIyL93wQaoiQ</td>\n",
       "      <td>0</td>\n",
       "    </tr>\n",
       "    <tr>\n",
       "      <th>4</th>\n",
       "      <td>4</td>\n",
       "      <td>ou3C2Cnot1gitNoQIu5Uag</td>\n",
       "      <td>0</td>\n",
       "      <td>1</td>\n",
       "      <td>QMVWX3pVyTUTqi0GZuPbcQ</td>\n",
       "      <td>I know there are a variety of Walgreens in any...</td>\n",
       "      <td>5.0</td>\n",
       "      <td>2017-05-21 19:32:30</td>\n",
       "      <td>xomLWGz8EhYT2cTL1W7FYw</td>\n",
       "      <td>0</td>\n",
       "    </tr>\n",
       "  </tbody>\n",
       "</table>\n",
       "</div>"
      ],
      "text/plain": [
       "   Unnamed: 0             business_id  funny  useful               review_id  \\\n",
       "0           0  ou3C2Cnot1gitNoQIu5Uag      0       1  SlRqylnJdgId16sDnqpglw   \n",
       "1           1  ou3C2Cnot1gitNoQIu5Uag      0       0  PP8dOxMFX38vgIZnT19C-w   \n",
       "2           2  ou3C2Cnot1gitNoQIu5Uag      0       1  yo6lp-WrkkagT40eTe7tzw   \n",
       "3           3  ou3C2Cnot1gitNoQIu5Uag      0       0  wkI56m5OeJaicdJK6y_g1Q   \n",
       "4           4  ou3C2Cnot1gitNoQIu5Uag      0       1  QMVWX3pVyTUTqi0GZuPbcQ   \n",
       "\n",
       "                                                text  stars  \\\n",
       "0  I came here Christmas Day 2017 to grab a few i...    1.0   \n",
       "1  This is Walgreen's - sometimes it has good sal...    3.0   \n",
       "2  I simply came to get an OTC item and waited mo...    1.0   \n",
       "3  Hey it's a Walgreen's. \\n\\nAs I had to tell th...    3.0   \n",
       "4  I know there are a variety of Walgreens in any...    5.0   \n",
       "\n",
       "                  date                 user_id  cool  \n",
       "0  2018-05-29 09:09:16  InnEjkdcAxD-CCtQTP8EyQ     0  \n",
       "1  2017-05-13 21:47:26  vAhWqV8pSv3crEdTiaqFVw     0  \n",
       "2  2017-10-04 00:10:21  npO5XqgJN3FdVsUx-cAFJw     0  \n",
       "3  2012-02-12 01:29:10  r-zUIQPaHzvIyL93wQaoiQ     0  \n",
       "4  2017-05-21 19:32:30  xomLWGz8EhYT2cTL1W7FYw     0  "
      ]
     },
     "execution_count": 5,
     "metadata": {},
     "output_type": "execute_result"
    }
   ],
   "source": [
    "df.head()"
   ]
  },
  {
   "cell_type": "code",
   "execution_count": 11,
   "metadata": {},
   "outputs": [],
   "source": [
    "import datetime"
   ]
  },
  {
   "cell_type": "code",
   "execution_count": 12,
   "metadata": {},
   "outputs": [
    {
     "data": {
      "text/plain": [
       "'2018-05-29 09:09:16'"
      ]
     },
     "execution_count": 12,
     "metadata": {},
     "output_type": "execute_result"
    }
   ],
   "source": [
    "df[\"date\"].iloc[0]"
   ]
  },
  {
   "cell_type": "code",
   "execution_count": 13,
   "metadata": {},
   "outputs": [],
   "source": [
    "df[\"datetime\"] = pd.to_datetime(df[\"date\"])"
   ]
  },
  {
   "cell_type": "code",
   "execution_count": 16,
   "metadata": {},
   "outputs": [
    {
     "name": "stderr",
     "output_type": "stream",
     "text": [
      "/opt/conda/lib/python3.6/site-packages/ipykernel_launcher.py:1: FutureWarning: Treating datetime data as categorical rather than numeric in `.describe` is deprecated and will be removed in a future version of pandas. Specify `datetime_is_numeric=True` to silence this warning and adopt the future behavior now.\n",
      "  \"\"\"Entry point for launching an IPython kernel.\n"
     ]
    },
    {
     "data": {
      "text/plain": [
       "count                  118125\n",
       "unique                 118006\n",
       "top       2014-07-02 01:16:13\n",
       "freq                        4\n",
       "first     2005-03-03 19:49:39\n",
       "last      2019-12-13 15:46:10\n",
       "Name: datetime, dtype: object"
      ]
     },
     "execution_count": 16,
     "metadata": {},
     "output_type": "execute_result"
    }
   ],
   "source": [
    "df[\"datetime\"].describe()"
   ]
  },
  {
   "cell_type": "code",
   "execution_count": 22,
   "metadata": {},
   "outputs": [],
   "source": [
    "bdf = df.groupby('business_id').max()[\"datetime\"].reset_index(name=\"Max Date\")"
   ]
  },
  {
   "cell_type": "code",
   "execution_count": 24,
   "metadata": {},
   "outputs": [],
   "source": [
    "bdf[\"Min Date\"] = df.groupby('business_id').min()[\"datetime\"].reset_index(name=\"Min Date\")[\"Min Date\"]"
   ]
  },
  {
   "cell_type": "code",
   "execution_count": 25,
   "metadata": {},
   "outputs": [
    {
     "data": {
      "text/html": [
       "<div>\n",
       "<style scoped>\n",
       "    .dataframe tbody tr th:only-of-type {\n",
       "        vertical-align: middle;\n",
       "    }\n",
       "\n",
       "    .dataframe tbody tr th {\n",
       "        vertical-align: top;\n",
       "    }\n",
       "\n",
       "    .dataframe thead th {\n",
       "        text-align: right;\n",
       "    }\n",
       "</style>\n",
       "<table border=\"1\" class=\"dataframe\">\n",
       "  <thead>\n",
       "    <tr style=\"text-align: right;\">\n",
       "      <th></th>\n",
       "      <th>business_id</th>\n",
       "      <th>Max Date</th>\n",
       "      <th>Min Date</th>\n",
       "    </tr>\n",
       "  </thead>\n",
       "  <tbody>\n",
       "    <tr>\n",
       "      <th>0</th>\n",
       "      <td>-0b86isaXMY0v4g-V8GZ9Q</td>\n",
       "      <td>2014-12-05 01:50:55</td>\n",
       "      <td>2009-02-09 17:56:01</td>\n",
       "    </tr>\n",
       "    <tr>\n",
       "      <th>1</th>\n",
       "      <td>-2Arz8twKJmxHMS3Sv-TeA</td>\n",
       "      <td>2019-10-21 18:34:28</td>\n",
       "      <td>2011-01-07 01:05:11</td>\n",
       "    </tr>\n",
       "    <tr>\n",
       "      <th>2</th>\n",
       "      <td>-5DifC-lAFioAD_DLVgTMQ</td>\n",
       "      <td>2019-12-02 21:37:37</td>\n",
       "      <td>2013-02-21 04:15:45</td>\n",
       "    </tr>\n",
       "    <tr>\n",
       "      <th>3</th>\n",
       "      <td>-5OGnkKlP5nECa5rp6E1gg</td>\n",
       "      <td>2019-08-06 21:43:39</td>\n",
       "      <td>2011-06-22 18:54:17</td>\n",
       "    </tr>\n",
       "    <tr>\n",
       "      <th>4</th>\n",
       "      <td>-64YsJzeTVvOaFDRdU_KxA</td>\n",
       "      <td>2018-04-24 23:32:29</td>\n",
       "      <td>2015-01-13 19:36:48</td>\n",
       "    </tr>\n",
       "  </tbody>\n",
       "</table>\n",
       "</div>"
      ],
      "text/plain": [
       "              business_id            Max Date            Min Date\n",
       "0  -0b86isaXMY0v4g-V8GZ9Q 2014-12-05 01:50:55 2009-02-09 17:56:01\n",
       "1  -2Arz8twKJmxHMS3Sv-TeA 2019-10-21 18:34:28 2011-01-07 01:05:11\n",
       "2  -5DifC-lAFioAD_DLVgTMQ 2019-12-02 21:37:37 2013-02-21 04:15:45\n",
       "3  -5OGnkKlP5nECa5rp6E1gg 2019-08-06 21:43:39 2011-06-22 18:54:17\n",
       "4  -64YsJzeTVvOaFDRdU_KxA 2018-04-24 23:32:29 2015-01-13 19:36:48"
      ]
     },
     "execution_count": 25,
     "metadata": {},
     "output_type": "execute_result"
    }
   ],
   "source": [
    "bdf.head()"
   ]
  },
  {
   "cell_type": "code",
   "execution_count": 26,
   "metadata": {},
   "outputs": [],
   "source": [
    "bdf[\"Delta\"] = bdf[\"Max Date\"] - bdf[\"Min Date\"]"
   ]
  },
  {
   "cell_type": "code",
   "execution_count": 27,
   "metadata": {},
   "outputs": [
    {
     "data": {
      "text/html": [
       "<div>\n",
       "<style scoped>\n",
       "    .dataframe tbody tr th:only-of-type {\n",
       "        vertical-align: middle;\n",
       "    }\n",
       "\n",
       "    .dataframe tbody tr th {\n",
       "        vertical-align: top;\n",
       "    }\n",
       "\n",
       "    .dataframe thead th {\n",
       "        text-align: right;\n",
       "    }\n",
       "</style>\n",
       "<table border=\"1\" class=\"dataframe\">\n",
       "  <thead>\n",
       "    <tr style=\"text-align: right;\">\n",
       "      <th></th>\n",
       "      <th>Delta</th>\n",
       "    </tr>\n",
       "  </thead>\n",
       "  <tbody>\n",
       "    <tr>\n",
       "      <th>count</th>\n",
       "      <td>3680</td>\n",
       "    </tr>\n",
       "    <tr>\n",
       "      <th>mean</th>\n",
       "      <td>2095 days 20:34:18.450815200</td>\n",
       "    </tr>\n",
       "    <tr>\n",
       "      <th>std</th>\n",
       "      <td>1315 days 02:05:37.185790672</td>\n",
       "    </tr>\n",
       "    <tr>\n",
       "      <th>min</th>\n",
       "      <td>0 days 13:28:43</td>\n",
       "    </tr>\n",
       "    <tr>\n",
       "      <th>25%</th>\n",
       "      <td>1029 days 00:23:51.750000</td>\n",
       "    </tr>\n",
       "    <tr>\n",
       "      <th>50%</th>\n",
       "      <td>1922 days 05:48:08.500000</td>\n",
       "    </tr>\n",
       "    <tr>\n",
       "      <th>75%</th>\n",
       "      <td>3018 days 06:00:20</td>\n",
       "    </tr>\n",
       "    <tr>\n",
       "      <th>max</th>\n",
       "      <td>5392 days 00:57:40</td>\n",
       "    </tr>\n",
       "  </tbody>\n",
       "</table>\n",
       "</div>"
      ],
      "text/plain": [
       "                              Delta\n",
       "count                          3680\n",
       "mean   2095 days 20:34:18.450815200\n",
       "std    1315 days 02:05:37.185790672\n",
       "min                 0 days 13:28:43\n",
       "25%       1029 days 00:23:51.750000\n",
       "50%       1922 days 05:48:08.500000\n",
       "75%              3018 days 06:00:20\n",
       "max              5392 days 00:57:40"
      ]
     },
     "execution_count": 27,
     "metadata": {},
     "output_type": "execute_result"
    }
   ],
   "source": [
    "bdf.describe()"
   ]
  },
  {
   "cell_type": "code",
   "execution_count": 31,
   "metadata": {},
   "outputs": [
    {
     "data": {
      "text/html": [
       "<div>\n",
       "<style scoped>\n",
       "    .dataframe tbody tr th:only-of-type {\n",
       "        vertical-align: middle;\n",
       "    }\n",
       "\n",
       "    .dataframe tbody tr th {\n",
       "        vertical-align: top;\n",
       "    }\n",
       "\n",
       "    .dataframe thead th {\n",
       "        text-align: right;\n",
       "    }\n",
       "</style>\n",
       "<table border=\"1\" class=\"dataframe\">\n",
       "  <thead>\n",
       "    <tr style=\"text-align: right;\">\n",
       "      <th></th>\n",
       "      <th>business_id</th>\n",
       "      <th>Max Date</th>\n",
       "      <th>Min Date</th>\n",
       "      <th>Delta</th>\n",
       "    </tr>\n",
       "  </thead>\n",
       "  <tbody>\n",
       "    <tr>\n",
       "      <th>0</th>\n",
       "      <td>-0b86isaXMY0v4g-V8GZ9Q</td>\n",
       "      <td>2014-12-05 01:50:55</td>\n",
       "      <td>2009-02-09 17:56:01</td>\n",
       "      <td>2124 days 07:54:54</td>\n",
       "    </tr>\n",
       "    <tr>\n",
       "      <th>1</th>\n",
       "      <td>-2Arz8twKJmxHMS3Sv-TeA</td>\n",
       "      <td>2019-10-21 18:34:28</td>\n",
       "      <td>2011-01-07 01:05:11</td>\n",
       "      <td>3209 days 17:29:17</td>\n",
       "    </tr>\n",
       "    <tr>\n",
       "      <th>2</th>\n",
       "      <td>-5DifC-lAFioAD_DLVgTMQ</td>\n",
       "      <td>2019-12-02 21:37:37</td>\n",
       "      <td>2013-02-21 04:15:45</td>\n",
       "      <td>2475 days 17:21:52</td>\n",
       "    </tr>\n",
       "    <tr>\n",
       "      <th>3</th>\n",
       "      <td>-5OGnkKlP5nECa5rp6E1gg</td>\n",
       "      <td>2019-08-06 21:43:39</td>\n",
       "      <td>2011-06-22 18:54:17</td>\n",
       "      <td>2967 days 02:49:22</td>\n",
       "    </tr>\n",
       "    <tr>\n",
       "      <th>4</th>\n",
       "      <td>-64YsJzeTVvOaFDRdU_KxA</td>\n",
       "      <td>2018-04-24 23:32:29</td>\n",
       "      <td>2015-01-13 19:36:48</td>\n",
       "      <td>1197 days 03:55:41</td>\n",
       "    </tr>\n",
       "    <tr>\n",
       "      <th>...</th>\n",
       "      <td>...</td>\n",
       "      <td>...</td>\n",
       "      <td>...</td>\n",
       "      <td>...</td>\n",
       "    </tr>\n",
       "    <tr>\n",
       "      <th>3675</th>\n",
       "      <td>zsba0Tyt6dm6m9y5qBCxvw</td>\n",
       "      <td>2019-07-15 18:01:31</td>\n",
       "      <td>2013-05-14 17:56:00</td>\n",
       "      <td>2253 days 00:05:31</td>\n",
       "    </tr>\n",
       "    <tr>\n",
       "      <th>3676</th>\n",
       "      <td>ztV1Seo1eCp9_ZBcFUvTLw</td>\n",
       "      <td>2019-08-23 22:11:49</td>\n",
       "      <td>2012-04-10 00:45:27</td>\n",
       "      <td>2691 days 21:26:22</td>\n",
       "    </tr>\n",
       "    <tr>\n",
       "      <th>3677</th>\n",
       "      <td>zvOkw2USqHHM9b2cpVzQqQ</td>\n",
       "      <td>2018-02-18 22:17:48</td>\n",
       "      <td>2009-08-12 15:55:05</td>\n",
       "      <td>3112 days 06:22:43</td>\n",
       "    </tr>\n",
       "    <tr>\n",
       "      <th>3678</th>\n",
       "      <td>zx_eg_zbs2pyDU4QmCXE1Q</td>\n",
       "      <td>2019-03-10 02:53:09</td>\n",
       "      <td>2013-08-15 17:58:23</td>\n",
       "      <td>2032 days 08:54:46</td>\n",
       "    </tr>\n",
       "    <tr>\n",
       "      <th>3679</th>\n",
       "      <td>zz4OLlsOlft6RVbixGfwiw</td>\n",
       "      <td>2018-10-15 16:55:33</td>\n",
       "      <td>2013-11-30 04:21:06</td>\n",
       "      <td>1780 days 12:34:27</td>\n",
       "    </tr>\n",
       "  </tbody>\n",
       "</table>\n",
       "<p>3680 rows × 4 columns</p>\n",
       "</div>"
      ],
      "text/plain": [
       "                 business_id            Max Date            Min Date  \\\n",
       "0     -0b86isaXMY0v4g-V8GZ9Q 2014-12-05 01:50:55 2009-02-09 17:56:01   \n",
       "1     -2Arz8twKJmxHMS3Sv-TeA 2019-10-21 18:34:28 2011-01-07 01:05:11   \n",
       "2     -5DifC-lAFioAD_DLVgTMQ 2019-12-02 21:37:37 2013-02-21 04:15:45   \n",
       "3     -5OGnkKlP5nECa5rp6E1gg 2019-08-06 21:43:39 2011-06-22 18:54:17   \n",
       "4     -64YsJzeTVvOaFDRdU_KxA 2018-04-24 23:32:29 2015-01-13 19:36:48   \n",
       "...                      ...                 ...                 ...   \n",
       "3675  zsba0Tyt6dm6m9y5qBCxvw 2019-07-15 18:01:31 2013-05-14 17:56:00   \n",
       "3676  ztV1Seo1eCp9_ZBcFUvTLw 2019-08-23 22:11:49 2012-04-10 00:45:27   \n",
       "3677  zvOkw2USqHHM9b2cpVzQqQ 2018-02-18 22:17:48 2009-08-12 15:55:05   \n",
       "3678  zx_eg_zbs2pyDU4QmCXE1Q 2019-03-10 02:53:09 2013-08-15 17:58:23   \n",
       "3679  zz4OLlsOlft6RVbixGfwiw 2018-10-15 16:55:33 2013-11-30 04:21:06   \n",
       "\n",
       "                  Delta  \n",
       "0    2124 days 07:54:54  \n",
       "1    3209 days 17:29:17  \n",
       "2    2475 days 17:21:52  \n",
       "3    2967 days 02:49:22  \n",
       "4    1197 days 03:55:41  \n",
       "...                 ...  \n",
       "3675 2253 days 00:05:31  \n",
       "3676 2691 days 21:26:22  \n",
       "3677 3112 days 06:22:43  \n",
       "3678 2032 days 08:54:46  \n",
       "3679 1780 days 12:34:27  \n",
       "\n",
       "[3680 rows x 4 columns]"
      ]
     },
     "execution_count": 31,
     "metadata": {},
     "output_type": "execute_result"
    }
   ],
   "source": [
    "bdf"
   ]
  },
  {
   "cell_type": "code",
   "execution_count": 33,
   "metadata": {},
   "outputs": [
    {
     "data": {
      "text/plain": [
       "2124"
      ]
     },
     "execution_count": 33,
     "metadata": {},
     "output_type": "execute_result"
    }
   ],
   "source": [
    "bdf[\"Delta\"].iloc[0].days"
   ]
  },
  {
   "cell_type": "code",
   "execution_count": 34,
   "metadata": {},
   "outputs": [],
   "source": [
    "bdf[\"yelp_lifetime\"] = bdf[\"Delta\"].apply(lambda x: x.days / 365.)"
   ]
  },
  {
   "cell_type": "code",
   "execution_count": 35,
   "metadata": {},
   "outputs": [
    {
     "data": {
      "text/html": [
       "<div>\n",
       "<style scoped>\n",
       "    .dataframe tbody tr th:only-of-type {\n",
       "        vertical-align: middle;\n",
       "    }\n",
       "\n",
       "    .dataframe tbody tr th {\n",
       "        vertical-align: top;\n",
       "    }\n",
       "\n",
       "    .dataframe thead th {\n",
       "        text-align: right;\n",
       "    }\n",
       "</style>\n",
       "<table border=\"1\" class=\"dataframe\">\n",
       "  <thead>\n",
       "    <tr style=\"text-align: right;\">\n",
       "      <th></th>\n",
       "      <th>business_id</th>\n",
       "      <th>Max Date</th>\n",
       "      <th>Min Date</th>\n",
       "      <th>Delta</th>\n",
       "      <th>yelp_lifetime</th>\n",
       "    </tr>\n",
       "  </thead>\n",
       "  <tbody>\n",
       "    <tr>\n",
       "      <th>0</th>\n",
       "      <td>-0b86isaXMY0v4g-V8GZ9Q</td>\n",
       "      <td>2014-12-05 01:50:55</td>\n",
       "      <td>2009-02-09 17:56:01</td>\n",
       "      <td>2124 days 07:54:54</td>\n",
       "      <td>5.819178</td>\n",
       "    </tr>\n",
       "    <tr>\n",
       "      <th>1</th>\n",
       "      <td>-2Arz8twKJmxHMS3Sv-TeA</td>\n",
       "      <td>2019-10-21 18:34:28</td>\n",
       "      <td>2011-01-07 01:05:11</td>\n",
       "      <td>3209 days 17:29:17</td>\n",
       "      <td>8.791781</td>\n",
       "    </tr>\n",
       "    <tr>\n",
       "      <th>2</th>\n",
       "      <td>-5DifC-lAFioAD_DLVgTMQ</td>\n",
       "      <td>2019-12-02 21:37:37</td>\n",
       "      <td>2013-02-21 04:15:45</td>\n",
       "      <td>2475 days 17:21:52</td>\n",
       "      <td>6.780822</td>\n",
       "    </tr>\n",
       "    <tr>\n",
       "      <th>3</th>\n",
       "      <td>-5OGnkKlP5nECa5rp6E1gg</td>\n",
       "      <td>2019-08-06 21:43:39</td>\n",
       "      <td>2011-06-22 18:54:17</td>\n",
       "      <td>2967 days 02:49:22</td>\n",
       "      <td>8.128767</td>\n",
       "    </tr>\n",
       "    <tr>\n",
       "      <th>4</th>\n",
       "      <td>-64YsJzeTVvOaFDRdU_KxA</td>\n",
       "      <td>2018-04-24 23:32:29</td>\n",
       "      <td>2015-01-13 19:36:48</td>\n",
       "      <td>1197 days 03:55:41</td>\n",
       "      <td>3.279452</td>\n",
       "    </tr>\n",
       "  </tbody>\n",
       "</table>\n",
       "</div>"
      ],
      "text/plain": [
       "              business_id            Max Date            Min Date  \\\n",
       "0  -0b86isaXMY0v4g-V8GZ9Q 2014-12-05 01:50:55 2009-02-09 17:56:01   \n",
       "1  -2Arz8twKJmxHMS3Sv-TeA 2019-10-21 18:34:28 2011-01-07 01:05:11   \n",
       "2  -5DifC-lAFioAD_DLVgTMQ 2019-12-02 21:37:37 2013-02-21 04:15:45   \n",
       "3  -5OGnkKlP5nECa5rp6E1gg 2019-08-06 21:43:39 2011-06-22 18:54:17   \n",
       "4  -64YsJzeTVvOaFDRdU_KxA 2018-04-24 23:32:29 2015-01-13 19:36:48   \n",
       "\n",
       "               Delta  yelp_lifetime  \n",
       "0 2124 days 07:54:54       5.819178  \n",
       "1 3209 days 17:29:17       8.791781  \n",
       "2 2475 days 17:21:52       6.780822  \n",
       "3 2967 days 02:49:22       8.128767  \n",
       "4 1197 days 03:55:41       3.279452  "
      ]
     },
     "execution_count": 35,
     "metadata": {},
     "output_type": "execute_result"
    }
   ],
   "source": [
    "bdf.head()"
   ]
  },
  {
   "cell_type": "code",
   "execution_count": 36,
   "metadata": {},
   "outputs": [
    {
     "data": {
      "text/plain": [
       "5.8191780821917805"
      ]
     },
     "execution_count": 36,
     "metadata": {},
     "output_type": "execute_result"
    }
   ],
   "source": [
    "2124/365."
   ]
  },
  {
   "cell_type": "code",
   "execution_count": 39,
   "metadata": {},
   "outputs": [
    {
     "data": {
      "text/html": [
       "<div>\n",
       "<style scoped>\n",
       "    .dataframe tbody tr th:only-of-type {\n",
       "        vertical-align: middle;\n",
       "    }\n",
       "\n",
       "    .dataframe tbody tr th {\n",
       "        vertical-align: top;\n",
       "    }\n",
       "\n",
       "    .dataframe thead th {\n",
       "        text-align: right;\n",
       "    }\n",
       "</style>\n",
       "<table border=\"1\" class=\"dataframe\">\n",
       "  <thead>\n",
       "    <tr style=\"text-align: right;\">\n",
       "      <th></th>\n",
       "      <th>business_id</th>\n",
       "      <th>yelp_lifetime</th>\n",
       "    </tr>\n",
       "  </thead>\n",
       "  <tbody>\n",
       "    <tr>\n",
       "      <th>0</th>\n",
       "      <td>-0b86isaXMY0v4g-V8GZ9Q</td>\n",
       "      <td>5.819178</td>\n",
       "    </tr>\n",
       "    <tr>\n",
       "      <th>1</th>\n",
       "      <td>-2Arz8twKJmxHMS3Sv-TeA</td>\n",
       "      <td>8.791781</td>\n",
       "    </tr>\n",
       "    <tr>\n",
       "      <th>2</th>\n",
       "      <td>-5DifC-lAFioAD_DLVgTMQ</td>\n",
       "      <td>6.780822</td>\n",
       "    </tr>\n",
       "    <tr>\n",
       "      <th>3</th>\n",
       "      <td>-5OGnkKlP5nECa5rp6E1gg</td>\n",
       "      <td>8.128767</td>\n",
       "    </tr>\n",
       "    <tr>\n",
       "      <th>4</th>\n",
       "      <td>-64YsJzeTVvOaFDRdU_KxA</td>\n",
       "      <td>3.279452</td>\n",
       "    </tr>\n",
       "  </tbody>\n",
       "</table>\n",
       "</div>"
      ],
      "text/plain": [
       "              business_id  yelp_lifetime\n",
       "0  -0b86isaXMY0v4g-V8GZ9Q       5.819178\n",
       "1  -2Arz8twKJmxHMS3Sv-TeA       8.791781\n",
       "2  -5DifC-lAFioAD_DLVgTMQ       6.780822\n",
       "3  -5OGnkKlP5nECa5rp6E1gg       8.128767\n",
       "4  -64YsJzeTVvOaFDRdU_KxA       3.279452"
      ]
     },
     "execution_count": 39,
     "metadata": {},
     "output_type": "execute_result"
    }
   ],
   "source": [
    "bdf = bdf.drop([\"Max Date\", \"Min Date\", \"Delta\"], axis=1)\n",
    "bdf.head()"
   ]
  },
  {
   "cell_type": "code",
   "execution_count": 41,
   "metadata": {},
   "outputs": [],
   "source": [
    "df = df.merge(bdf, on=\"business_id\")"
   ]
  },
  {
   "cell_type": "code",
   "execution_count": 42,
   "metadata": {},
   "outputs": [
    {
     "data": {
      "text/html": [
       "<div>\n",
       "<style scoped>\n",
       "    .dataframe tbody tr th:only-of-type {\n",
       "        vertical-align: middle;\n",
       "    }\n",
       "\n",
       "    .dataframe tbody tr th {\n",
       "        vertical-align: top;\n",
       "    }\n",
       "\n",
       "    .dataframe thead th {\n",
       "        text-align: right;\n",
       "    }\n",
       "</style>\n",
       "<table border=\"1\" class=\"dataframe\">\n",
       "  <thead>\n",
       "    <tr style=\"text-align: right;\">\n",
       "      <th></th>\n",
       "      <th>Unnamed: 0</th>\n",
       "      <th>business_id</th>\n",
       "      <th>funny</th>\n",
       "      <th>useful</th>\n",
       "      <th>review_id</th>\n",
       "      <th>text</th>\n",
       "      <th>stars</th>\n",
       "      <th>date</th>\n",
       "      <th>user_id</th>\n",
       "      <th>cool</th>\n",
       "      <th>datetime</th>\n",
       "      <th>yelp_lifetime</th>\n",
       "    </tr>\n",
       "  </thead>\n",
       "  <tbody>\n",
       "    <tr>\n",
       "      <th>0</th>\n",
       "      <td>0</td>\n",
       "      <td>ou3C2Cnot1gitNoQIu5Uag</td>\n",
       "      <td>0</td>\n",
       "      <td>1</td>\n",
       "      <td>SlRqylnJdgId16sDnqpglw</td>\n",
       "      <td>I came here Christmas Day 2017 to grab a few i...</td>\n",
       "      <td>1.0</td>\n",
       "      <td>2018-05-29 09:09:16</td>\n",
       "      <td>InnEjkdcAxD-CCtQTP8EyQ</td>\n",
       "      <td>0</td>\n",
       "      <td>2018-05-29 09:09:16</td>\n",
       "      <td>7.613699</td>\n",
       "    </tr>\n",
       "    <tr>\n",
       "      <th>1</th>\n",
       "      <td>1</td>\n",
       "      <td>ou3C2Cnot1gitNoQIu5Uag</td>\n",
       "      <td>0</td>\n",
       "      <td>0</td>\n",
       "      <td>PP8dOxMFX38vgIZnT19C-w</td>\n",
       "      <td>This is Walgreen's - sometimes it has good sal...</td>\n",
       "      <td>3.0</td>\n",
       "      <td>2017-05-13 21:47:26</td>\n",
       "      <td>vAhWqV8pSv3crEdTiaqFVw</td>\n",
       "      <td>0</td>\n",
       "      <td>2017-05-13 21:47:26</td>\n",
       "      <td>7.613699</td>\n",
       "    </tr>\n",
       "    <tr>\n",
       "      <th>2</th>\n",
       "      <td>2</td>\n",
       "      <td>ou3C2Cnot1gitNoQIu5Uag</td>\n",
       "      <td>0</td>\n",
       "      <td>1</td>\n",
       "      <td>yo6lp-WrkkagT40eTe7tzw</td>\n",
       "      <td>I simply came to get an OTC item and waited mo...</td>\n",
       "      <td>1.0</td>\n",
       "      <td>2017-10-04 00:10:21</td>\n",
       "      <td>npO5XqgJN3FdVsUx-cAFJw</td>\n",
       "      <td>0</td>\n",
       "      <td>2017-10-04 00:10:21</td>\n",
       "      <td>7.613699</td>\n",
       "    </tr>\n",
       "    <tr>\n",
       "      <th>3</th>\n",
       "      <td>3</td>\n",
       "      <td>ou3C2Cnot1gitNoQIu5Uag</td>\n",
       "      <td>0</td>\n",
       "      <td>0</td>\n",
       "      <td>wkI56m5OeJaicdJK6y_g1Q</td>\n",
       "      <td>Hey it's a Walgreen's. \\n\\nAs I had to tell th...</td>\n",
       "      <td>3.0</td>\n",
       "      <td>2012-02-12 01:29:10</td>\n",
       "      <td>r-zUIQPaHzvIyL93wQaoiQ</td>\n",
       "      <td>0</td>\n",
       "      <td>2012-02-12 01:29:10</td>\n",
       "      <td>7.613699</td>\n",
       "    </tr>\n",
       "    <tr>\n",
       "      <th>4</th>\n",
       "      <td>4</td>\n",
       "      <td>ou3C2Cnot1gitNoQIu5Uag</td>\n",
       "      <td>0</td>\n",
       "      <td>1</td>\n",
       "      <td>QMVWX3pVyTUTqi0GZuPbcQ</td>\n",
       "      <td>I know there are a variety of Walgreens in any...</td>\n",
       "      <td>5.0</td>\n",
       "      <td>2017-05-21 19:32:30</td>\n",
       "      <td>xomLWGz8EhYT2cTL1W7FYw</td>\n",
       "      <td>0</td>\n",
       "      <td>2017-05-21 19:32:30</td>\n",
       "      <td>7.613699</td>\n",
       "    </tr>\n",
       "  </tbody>\n",
       "</table>\n",
       "</div>"
      ],
      "text/plain": [
       "   Unnamed: 0             business_id  funny  useful               review_id  \\\n",
       "0           0  ou3C2Cnot1gitNoQIu5Uag      0       1  SlRqylnJdgId16sDnqpglw   \n",
       "1           1  ou3C2Cnot1gitNoQIu5Uag      0       0  PP8dOxMFX38vgIZnT19C-w   \n",
       "2           2  ou3C2Cnot1gitNoQIu5Uag      0       1  yo6lp-WrkkagT40eTe7tzw   \n",
       "3           3  ou3C2Cnot1gitNoQIu5Uag      0       0  wkI56m5OeJaicdJK6y_g1Q   \n",
       "4           4  ou3C2Cnot1gitNoQIu5Uag      0       1  QMVWX3pVyTUTqi0GZuPbcQ   \n",
       "\n",
       "                                                text  stars  \\\n",
       "0  I came here Christmas Day 2017 to grab a few i...    1.0   \n",
       "1  This is Walgreen's - sometimes it has good sal...    3.0   \n",
       "2  I simply came to get an OTC item and waited mo...    1.0   \n",
       "3  Hey it's a Walgreen's. \\n\\nAs I had to tell th...    3.0   \n",
       "4  I know there are a variety of Walgreens in any...    5.0   \n",
       "\n",
       "                  date                 user_id  cool            datetime  \\\n",
       "0  2018-05-29 09:09:16  InnEjkdcAxD-CCtQTP8EyQ     0 2018-05-29 09:09:16   \n",
       "1  2017-05-13 21:47:26  vAhWqV8pSv3crEdTiaqFVw     0 2017-05-13 21:47:26   \n",
       "2  2017-10-04 00:10:21  npO5XqgJN3FdVsUx-cAFJw     0 2017-10-04 00:10:21   \n",
       "3  2012-02-12 01:29:10  r-zUIQPaHzvIyL93wQaoiQ     0 2012-02-12 01:29:10   \n",
       "4  2017-05-21 19:32:30  xomLWGz8EhYT2cTL1W7FYw     0 2017-05-21 19:32:30   \n",
       "\n",
       "   yelp_lifetime  \n",
       "0       7.613699  \n",
       "1       7.613699  \n",
       "2       7.613699  \n",
       "3       7.613699  \n",
       "4       7.613699  "
      ]
     },
     "execution_count": 42,
     "metadata": {},
     "output_type": "execute_result"
    }
   ],
   "source": [
    "df.head()"
   ]
  },
  {
   "cell_type": "code",
   "execution_count": 43,
   "metadata": {},
   "outputs": [],
   "source": [
    "df.to_csv(\"../../02. Madison Subset/Madison_Reviews_Exp.csv\")"
   ]
  },
  {
   "cell_type": "code",
   "execution_count": null,
   "metadata": {},
   "outputs": [],
   "source": []
  }
 ],
 "metadata": {
  "kernelspec": {
   "display_name": "Python 3",
   "language": "python",
   "name": "python3"
  },
  "language_info": {
   "codemirror_mode": {
    "name": "ipython",
    "version": 3
   },
   "file_extension": ".py",
   "mimetype": "text/x-python",
   "name": "python",
   "nbconvert_exporter": "python",
   "pygments_lexer": "ipython3",
   "version": "3.6.7"
  }
 },
 "nbformat": 4,
 "nbformat_minor": 2
}
